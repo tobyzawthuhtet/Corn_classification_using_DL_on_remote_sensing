{
  "nbformat": 4,
  "nbformat_minor": 0,
  "metadata": {
    "colab": {
      "name": "TSAI_inferencing.ipynb",
      "provenance": [],
      "collapsed_sections": []
    },
    "kernelspec": {
      "name": "python3",
      "display_name": "Python 3"
    },
    "language_info": {
      "name": "python"
    },
    "accelerator": "GPU"
  },
  "cells": [
    {
      "cell_type": "code",
      "execution_count": null,
      "metadata": {
        "id": "5r_E71Oeh1hp",
        "colab": {
          "base_uri": "https://localhost:8080/"
        },
        "outputId": "9278bdb0-9ac0-4f7d-c3ef-3a5d7ace8a8e"
      },
      "outputs": [
        {
          "output_type": "stream",
          "name": "stdout",
          "text": [
            "Requirement already satisfied: statsmodels==0.13.1 in /usr/local/lib/python3.7/dist-packages (0.13.1)\n",
            "Requirement already satisfied: numpy>=1.17 in /usr/local/lib/python3.7/dist-packages (from statsmodels==0.13.1) (1.21.5)\n",
            "Requirement already satisfied: pandas>=0.25 in /usr/local/lib/python3.7/dist-packages (from statsmodels==0.13.1) (1.3.5)\n",
            "Requirement already satisfied: patsy>=0.5.2 in /usr/local/lib/python3.7/dist-packages (from statsmodels==0.13.1) (0.5.2)\n",
            "Requirement already satisfied: scipy>=1.3 in /usr/local/lib/python3.7/dist-packages (from statsmodels==0.13.1) (1.4.1)\n",
            "Requirement already satisfied: pytz>=2017.3 in /usr/local/lib/python3.7/dist-packages (from pandas>=0.25->statsmodels==0.13.1) (2018.9)\n",
            "Requirement already satisfied: python-dateutil>=2.7.3 in /usr/local/lib/python3.7/dist-packages (from pandas>=0.25->statsmodels==0.13.1) (2.8.2)\n",
            "Requirement already satisfied: six in /usr/local/lib/python3.7/dist-packages (from patsy>=0.5.2->statsmodels==0.13.1) (1.15.0)\n",
            "Requirement already satisfied: tsai in /usr/local/lib/python3.7/dist-packages (0.3.0)\n",
            "Requirement already satisfied: torch<1.11,>=1.7.0 in /usr/local/lib/python3.7/dist-packages (from tsai) (1.10.0+cu111)\n",
            "Requirement already satisfied: pip in /usr/local/lib/python3.7/dist-packages (from tsai) (21.1.3)\n",
            "Requirement already satisfied: psutil>=5.4.8 in /usr/local/lib/python3.7/dist-packages (from tsai) (5.4.8)\n",
            "Requirement already satisfied: imbalanced-learn>=0.8.0 in /usr/local/lib/python3.7/dist-packages (from tsai) (0.8.1)\n",
            "Requirement already satisfied: nbformat>=5.1.3 in /usr/local/lib/python3.7/dist-packages (from tsai) (5.1.3)\n",
            "Requirement already satisfied: packaging in /usr/local/lib/python3.7/dist-packages (from tsai) (21.3)\n",
            "Requirement already satisfied: fastai>=2.5.3 in /usr/local/lib/python3.7/dist-packages (from tsai) (2.5.3)\n",
            "Requirement already satisfied: pyts>=0.12.0 in /usr/local/lib/python3.7/dist-packages (from tsai) (0.12.0)\n",
            "Requirement already satisfied: pillow>6.0.0 in /usr/local/lib/python3.7/dist-packages (from fastai>=2.5.3->tsai) (7.1.2)\n",
            "Requirement already satisfied: pyyaml in /usr/local/lib/python3.7/dist-packages (from fastai>=2.5.3->tsai) (3.13)\n",
            "Requirement already satisfied: pandas in /usr/local/lib/python3.7/dist-packages (from fastai>=2.5.3->tsai) (1.3.5)\n",
            "Requirement already satisfied: fastcore<1.4,>=1.3.22 in /usr/local/lib/python3.7/dist-packages (from fastai>=2.5.3->tsai) (1.3.29)\n",
            "Requirement already satisfied: spacy<4 in /usr/local/lib/python3.7/dist-packages (from fastai>=2.5.3->tsai) (2.2.4)\n",
            "Requirement already satisfied: torchvision>=0.8.2 in /usr/local/lib/python3.7/dist-packages (from fastai>=2.5.3->tsai) (0.11.1+cu111)\n",
            "Requirement already satisfied: fastdownload<2,>=0.0.5 in /usr/local/lib/python3.7/dist-packages (from fastai>=2.5.3->tsai) (0.0.5)\n",
            "Requirement already satisfied: requests in /usr/local/lib/python3.7/dist-packages (from fastai>=2.5.3->tsai) (2.23.0)\n",
            "Requirement already satisfied: fastprogress>=0.2.4 in /usr/local/lib/python3.7/dist-packages (from fastai>=2.5.3->tsai) (1.0.2)\n",
            "Requirement already satisfied: scipy in /usr/local/lib/python3.7/dist-packages (from fastai>=2.5.3->tsai) (1.4.1)\n",
            "Requirement already satisfied: matplotlib in /usr/local/lib/python3.7/dist-packages (from fastai>=2.5.3->tsai) (3.2.2)\n",
            "Requirement already satisfied: scikit-learn in /usr/local/lib/python3.7/dist-packages (from fastai>=2.5.3->tsai) (1.0.2)\n",
            "Requirement already satisfied: numpy>=1.13.3 in /usr/local/lib/python3.7/dist-packages (from imbalanced-learn>=0.8.0->tsai) (1.21.5)\n",
            "Requirement already satisfied: joblib>=0.11 in /usr/local/lib/python3.7/dist-packages (from imbalanced-learn>=0.8.0->tsai) (1.1.0)\n",
            "Requirement already satisfied: traitlets>=4.1 in /usr/local/lib/python3.7/dist-packages (from nbformat>=5.1.3->tsai) (5.1.1)\n",
            "Requirement already satisfied: ipython-genutils in /usr/local/lib/python3.7/dist-packages (from nbformat>=5.1.3->tsai) (0.2.0)\n",
            "Requirement already satisfied: jupyter-core in /usr/local/lib/python3.7/dist-packages (from nbformat>=5.1.3->tsai) (4.9.2)\n",
            "Requirement already satisfied: jsonschema!=2.5.0,>=2.4 in /usr/local/lib/python3.7/dist-packages (from nbformat>=5.1.3->tsai) (4.3.3)\n",
            "Requirement already satisfied: typing-extensions in /usr/local/lib/python3.7/dist-packages (from jsonschema!=2.5.0,>=2.4->nbformat>=5.1.3->tsai) (3.10.0.2)\n",
            "Requirement already satisfied: pyrsistent!=0.17.0,!=0.17.1,!=0.17.2,>=0.14.0 in /usr/local/lib/python3.7/dist-packages (from jsonschema!=2.5.0,>=2.4->nbformat>=5.1.3->tsai) (0.18.1)\n",
            "Requirement already satisfied: importlib-metadata in /usr/local/lib/python3.7/dist-packages (from jsonschema!=2.5.0,>=2.4->nbformat>=5.1.3->tsai) (4.11.2)\n",
            "Requirement already satisfied: attrs>=17.4.0 in /usr/local/lib/python3.7/dist-packages (from jsonschema!=2.5.0,>=2.4->nbformat>=5.1.3->tsai) (21.4.0)\n",
            "Requirement already satisfied: importlib-resources>=1.4.0 in /usr/local/lib/python3.7/dist-packages (from jsonschema!=2.5.0,>=2.4->nbformat>=5.1.3->tsai) (5.4.0)\n",
            "Requirement already satisfied: zipp>=3.1.0 in /usr/local/lib/python3.7/dist-packages (from importlib-resources>=1.4.0->jsonschema!=2.5.0,>=2.4->nbformat>=5.1.3->tsai) (3.7.0)\n",
            "Requirement already satisfied: numba>=0.48.0 in /usr/local/lib/python3.7/dist-packages (from pyts>=0.12.0->tsai) (0.51.2)\n",
            "Requirement already satisfied: setuptools in /usr/local/lib/python3.7/dist-packages (from numba>=0.48.0->pyts>=0.12.0->tsai) (57.4.0)\n",
            "Requirement already satisfied: llvmlite<0.35,>=0.34.0.dev0 in /usr/local/lib/python3.7/dist-packages (from numba>=0.48.0->pyts>=0.12.0->tsai) (0.34.0)\n",
            "Requirement already satisfied: threadpoolctl>=2.0.0 in /usr/local/lib/python3.7/dist-packages (from scikit-learn->fastai>=2.5.3->tsai) (3.1.0)\n",
            "Requirement already satisfied: tqdm<5.0.0,>=4.38.0 in /usr/local/lib/python3.7/dist-packages (from spacy<4->fastai>=2.5.3->tsai) (4.63.0)\n",
            "Requirement already satisfied: thinc==7.4.0 in /usr/local/lib/python3.7/dist-packages (from spacy<4->fastai>=2.5.3->tsai) (7.4.0)\n",
            "Requirement already satisfied: preshed<3.1.0,>=3.0.2 in /usr/local/lib/python3.7/dist-packages (from spacy<4->fastai>=2.5.3->tsai) (3.0.6)\n",
            "Requirement already satisfied: catalogue<1.1.0,>=0.0.7 in /usr/local/lib/python3.7/dist-packages (from spacy<4->fastai>=2.5.3->tsai) (1.0.0)\n",
            "Requirement already satisfied: plac<1.2.0,>=0.9.6 in /usr/local/lib/python3.7/dist-packages (from spacy<4->fastai>=2.5.3->tsai) (1.1.3)\n",
            "Requirement already satisfied: blis<0.5.0,>=0.4.0 in /usr/local/lib/python3.7/dist-packages (from spacy<4->fastai>=2.5.3->tsai) (0.4.1)\n",
            "Requirement already satisfied: srsly<1.1.0,>=1.0.2 in /usr/local/lib/python3.7/dist-packages (from spacy<4->fastai>=2.5.3->tsai) (1.0.5)\n",
            "Requirement already satisfied: murmurhash<1.1.0,>=0.28.0 in /usr/local/lib/python3.7/dist-packages (from spacy<4->fastai>=2.5.3->tsai) (1.0.6)\n",
            "Requirement already satisfied: cymem<2.1.0,>=2.0.2 in /usr/local/lib/python3.7/dist-packages (from spacy<4->fastai>=2.5.3->tsai) (2.0.6)\n",
            "Requirement already satisfied: wasabi<1.1.0,>=0.4.0 in /usr/local/lib/python3.7/dist-packages (from spacy<4->fastai>=2.5.3->tsai) (0.9.0)\n",
            "Requirement already satisfied: idna<3,>=2.5 in /usr/local/lib/python3.7/dist-packages (from requests->fastai>=2.5.3->tsai) (2.10)\n",
            "Requirement already satisfied: urllib3!=1.25.0,!=1.25.1,<1.26,>=1.21.1 in /usr/local/lib/python3.7/dist-packages (from requests->fastai>=2.5.3->tsai) (1.24.3)\n",
            "Requirement already satisfied: certifi>=2017.4.17 in /usr/local/lib/python3.7/dist-packages (from requests->fastai>=2.5.3->tsai) (2021.10.8)\n",
            "Requirement already satisfied: chardet<4,>=3.0.2 in /usr/local/lib/python3.7/dist-packages (from requests->fastai>=2.5.3->tsai) (3.0.4)\n",
            "Requirement already satisfied: pyparsing!=2.0.4,!=2.1.2,!=2.1.6,>=2.0.1 in /usr/local/lib/python3.7/dist-packages (from matplotlib->fastai>=2.5.3->tsai) (3.0.7)\n",
            "Requirement already satisfied: python-dateutil>=2.1 in /usr/local/lib/python3.7/dist-packages (from matplotlib->fastai>=2.5.3->tsai) (2.8.2)\n",
            "Requirement already satisfied: kiwisolver>=1.0.1 in /usr/local/lib/python3.7/dist-packages (from matplotlib->fastai>=2.5.3->tsai) (1.3.2)\n",
            "Requirement already satisfied: cycler>=0.10 in /usr/local/lib/python3.7/dist-packages (from matplotlib->fastai>=2.5.3->tsai) (0.11.0)\n",
            "Requirement already satisfied: six>=1.5 in /usr/local/lib/python3.7/dist-packages (from python-dateutil>=2.1->matplotlib->fastai>=2.5.3->tsai) (1.15.0)\n",
            "Requirement already satisfied: pytz>=2017.3 in /usr/local/lib/python3.7/dist-packages (from pandas->fastai>=2.5.3->tsai) (2018.9)\n",
            "Collecting rasterio\n",
            "  Downloading rasterio-1.2.10-cp37-cp37m-manylinux1_x86_64.whl (19.3 MB)\n",
            "\u001b[K     |████████████████████████████████| 19.3 MB 7.2 MB/s \n",
            "\u001b[?25hRequirement already satisfied: certifi in /usr/local/lib/python3.7/dist-packages (from rasterio) (2021.10.8)\n",
            "Collecting cligj>=0.5\n",
            "  Downloading cligj-0.7.2-py3-none-any.whl (7.1 kB)\n",
            "Collecting click-plugins\n",
            "  Downloading click_plugins-1.1.1-py2.py3-none-any.whl (7.5 kB)\n",
            "Requirement already satisfied: setuptools in /usr/local/lib/python3.7/dist-packages (from rasterio) (57.4.0)\n",
            "Requirement already satisfied: attrs in /usr/local/lib/python3.7/dist-packages (from rasterio) (21.4.0)\n",
            "Collecting snuggs>=1.4.1\n",
            "  Downloading snuggs-1.4.7-py3-none-any.whl (5.4 kB)\n",
            "Collecting affine\n",
            "  Downloading affine-2.3.0-py2.py3-none-any.whl (15 kB)\n",
            "Requirement already satisfied: click>=4.0 in /usr/local/lib/python3.7/dist-packages (from rasterio) (7.1.2)\n",
            "Requirement already satisfied: numpy in /usr/local/lib/python3.7/dist-packages (from rasterio) (1.21.5)\n",
            "Requirement already satisfied: pyparsing>=2.1.6 in /usr/local/lib/python3.7/dist-packages (from snuggs>=1.4.1->rasterio) (3.0.7)\n",
            "Installing collected packages: snuggs, cligj, click-plugins, affine, rasterio\n",
            "Successfully installed affine-2.3.0 click-plugins-1.1.1 cligj-0.7.2 rasterio-1.2.10 snuggs-1.4.7\n"
          ]
        }
      ],
      "source": [
        "!pip install statsmodels==0.13.1\n",
        "!pip install tsai\n",
        "# #!pip install pyrsgis\n",
        "# #!pip install geopandas \n",
        "!pip install rasterio"
      ]
    },
    {
      "cell_type": "code",
      "source": [
        "import pandas as pd\n",
        "import os \n",
        "import matplotlib.pyplot as plt\n",
        "import numpy as np\n",
        "from tsai.all import *\n",
        "\n",
        "import matplotlib as mpl\n",
        "mpl.rc('figure', max_open_warning = 0)\n",
        "%matplotlib inline"
      ],
      "metadata": {
        "id": "i9godUdch_-l"
      },
      "execution_count": null,
      "outputs": []
    },
    {
      "cell_type": "code",
      "source": [
        "import rasterio \n",
        "from rasterio.plot import reshape_as_raster,reshape_as_image\n",
        "src1=  rasterio.open('/content/drive/MyDrive/MyinGyan_corn/evi_data_cube.tif')\n",
        "image = src1.read()\n",
        "print(image.shape)\n",
        "reshaped_img=reshape_as_image(image)\n",
        "reshaped_img=reshaped_img.reshape(-1,reshaped_img[2].shape[1])\n",
        "print(reshaped_img.shape)\n",
        "reshaped_img = np.nan_to_num(reshaped_img)\n"
      ],
      "metadata": {
        "colab": {
          "base_uri": "https://localhost:8080/"
        },
        "id": "SjsFNNdpiHMQ",
        "outputId": "4c269a1f-d543-4f86-8416-6772ab9df6c3"
      },
      "execution_count": null,
      "outputs": [
        {
          "output_type": "stream",
          "name": "stdout",
          "text": [
            "(34, 1960, 2335)\n",
            "(4576600, 34)\n"
          ]
        }
      ]
    },
    {
      "cell_type": "code",
      "source": [
        "!unzip \"/content/TSAI_weights_88.zip\" -d \"/content/model\""
      ],
      "metadata": {
        "colab": {
          "base_uri": "https://localhost:8080/"
        },
        "id": "qk2viipNSoxD",
        "outputId": "b8a9f424-07c3-460a-f9fe-63398cde0126"
      },
      "execution_count": null,
      "outputs": [
        {
          "output_type": "stream",
          "name": "stdout",
          "text": [
            "Archive:  /content/TSAI_weights_88.zip\n",
            "   creating: /content/model/content/model/\n",
            "  inflating: /content/model/content/model/model.pth  \n",
            "  inflating: /content/model/content/model/dls_0.pth  \n",
            "  inflating: /content/model/content/model/learner.pkl  \n",
            "  inflating: /content/model/content/model/dls_1.pth  \n"
          ]
        }
      ]
    },
    {
      "cell_type": "code",
      "source": [
        "reswhaped_img = np.expand_dims(reshaped_img,1)\n",
        "reshaped_img.shape"
      ],
      "metadata": {
        "colab": {
          "base_uri": "https://localhost:8080/"
        },
        "id": "SZEyILDmj-70",
        "outputId": "3275cb32-e354-4365-cd12-c4e845bf6124"
      },
      "execution_count": null,
      "outputs": [
        {
          "output_type": "execute_result",
          "data": {
            "text/plain": [
              "(4576600, 34)"
            ]
          },
          "metadata": {},
          "execution_count": 8
        }
      ]
    },
    {
      "cell_type": "code",
      "source": [
        "learn = load_learner_all(path='/content/model', dls_fname='dls', model_fname='model', learner_fname='learner')\n",
        "learn.summary()"
      ],
      "metadata": {
        "id": "AWMxrvHHkvwp",
        "colab": {
          "base_uri": "https://localhost:8080/",
          "height": 1000
        },
        "outputId": "073f54a7-84f4-48bd-8790-6ae6cefb2139"
      },
      "execution_count": null,
      "outputs": [
        {
          "output_type": "display_data",
          "data": {
            "text/html": [
              "\n",
              "<style>\n",
              "    /* Turns off some styling */\n",
              "    progress {\n",
              "        /* gets rid of default border in Firefox and Opera. */\n",
              "        border: none;\n",
              "        /* Needs to be in here for Safari polyfill so background images work as expected. */\n",
              "        background-size: auto;\n",
              "    }\n",
              "    .progress-bar-interrupted, .progress-bar-interrupted::-webkit-progress-bar {\n",
              "        background: #F44336;\n",
              "    }\n",
              "</style>\n"
            ],
            "text/plain": [
              "<IPython.core.display.HTML object>"
            ]
          },
          "metadata": {}
        },
        {
          "output_type": "display_data",
          "data": {
            "text/html": [
              ""
            ],
            "text/plain": [
              "<IPython.core.display.HTML object>"
            ]
          },
          "metadata": {}
        },
        {
          "output_type": "execute_result",
          "data": {
            "application/vnd.google.colaboratory.intrinsic+json": {
              "type": "string"
            },
            "text/plain": [
              "InceptionTimePlus (Input shape: 64 x 1 x 34)\n",
              "============================================================================\n",
              "Layer (type)         Output Shape         Param #    Trainable \n",
              "============================================================================\n",
              "                     64 x 32 x 34        \n",
              "Conv1d                                    32         True      \n",
              "Conv1d                                    39936      True      \n",
              "Conv1d                                    19456      True      \n",
              "Conv1d                                    9216       True      \n",
              "MaxPool1d                                                      \n",
              "____________________________________________________________________________\n",
              "                     64 x 32 x 34        \n",
              "Conv1d                                    32         True      \n",
              "____________________________________________________________________________\n",
              "                     64 x 128 x 34       \n",
              "Concat                                                         \n",
              "BatchNorm1d                               256        True      \n",
              "ReLU                                                           \n",
              "____________________________________________________________________________\n",
              "                     64 x 32 x 34        \n",
              "Conv1d                                    4096       True      \n",
              "Conv1d                                    39936      True      \n",
              "Conv1d                                    19456      True      \n",
              "Conv1d                                    9216       True      \n",
              "MaxPool1d                                                      \n",
              "____________________________________________________________________________\n",
              "                     64 x 32 x 34        \n",
              "Conv1d                                    4096       True      \n",
              "____________________________________________________________________________\n",
              "                     64 x 128 x 34       \n",
              "Concat                                                         \n",
              "BatchNorm1d                               256        True      \n",
              "ReLU                                                           \n",
              "____________________________________________________________________________\n",
              "                     64 x 32 x 34        \n",
              "Conv1d                                    4096       True      \n",
              "Conv1d                                    39936      True      \n",
              "Conv1d                                    19456      True      \n",
              "Conv1d                                    9216       True      \n",
              "MaxPool1d                                                      \n",
              "____________________________________________________________________________\n",
              "                     64 x 32 x 34        \n",
              "Conv1d                                    4096       True      \n",
              "____________________________________________________________________________\n",
              "                     64 x 128 x 34       \n",
              "Concat                                                         \n",
              "BatchNorm1d                               256        True      \n",
              "____________________________________________________________________________\n",
              "                     64 x 32 x 34        \n",
              "Conv1d                                    4096       True      \n",
              "Conv1d                                    39936      True      \n",
              "Conv1d                                    19456      True      \n",
              "Conv1d                                    9216       True      \n",
              "MaxPool1d                                                      \n",
              "____________________________________________________________________________\n",
              "                     64 x 32 x 34        \n",
              "Conv1d                                    4096       True      \n",
              "____________________________________________________________________________\n",
              "                     64 x 128 x 34       \n",
              "Concat                                                         \n",
              "BatchNorm1d                               256        True      \n",
              "ReLU                                                           \n",
              "____________________________________________________________________________\n",
              "                     64 x 32 x 34        \n",
              "Conv1d                                    4096       True      \n",
              "Conv1d                                    39936      True      \n",
              "Conv1d                                    19456      True      \n",
              "Conv1d                                    9216       True      \n",
              "MaxPool1d                                                      \n",
              "____________________________________________________________________________\n",
              "                     64 x 32 x 34        \n",
              "Conv1d                                    4096       True      \n",
              "____________________________________________________________________________\n",
              "                     64 x 128 x 34       \n",
              "Concat                                                         \n",
              "BatchNorm1d                               256        True      \n",
              "ReLU                                                           \n",
              "____________________________________________________________________________\n",
              "                     64 x 32 x 34        \n",
              "Conv1d                                    4096       True      \n",
              "Conv1d                                    39936      True      \n",
              "Conv1d                                    19456      True      \n",
              "Conv1d                                    9216       True      \n",
              "MaxPool1d                                                      \n",
              "____________________________________________________________________________\n",
              "                     64 x 32 x 34        \n",
              "Conv1d                                    4096       True      \n",
              "____________________________________________________________________________\n",
              "                     64 x 128 x 34       \n",
              "Concat                                                         \n",
              "BatchNorm1d                               256        True      \n",
              "Conv1d                                    128        True      \n",
              "BatchNorm1d                               256        True      \n",
              "BatchNorm1d                               256        True      \n",
              "ReLU                                                           \n",
              "ReLU                                                           \n",
              "Add                                                            \n",
              "____________________________________________________________________________\n",
              "                     64 x 128 x 1        \n",
              "AdaptiveAvgPool1d                                              \n",
              "____________________________________________________________________________\n",
              "                     64 x 128            \n",
              "Flatten                                                        \n",
              "Dropout                                                        \n",
              "____________________________________________________________________________\n",
              "                     64 x 2              \n",
              "Linear                                    258        True      \n",
              "____________________________________________________________________________\n",
              "\n",
              "Total params: 455,106\n",
              "Total trainable params: 455,106\n",
              "Total non-trainable params: 0\n",
              "\n",
              "Optimizer used: <function Adam at 0x7f4dc2f37dd0>\n",
              "Loss function: <fastai.losses.DiceLoss object at 0x7f4daf9da910>\n",
              "\n",
              "Model unfrozen\n",
              "\n",
              "Callbacks:\n",
              "  - TrainEvalCallback\n",
              "  - Recorder\n",
              "  - ProgressCallback"
            ]
          },
          "metadata": {},
          "execution_count": 6
        }
      ]
    },
    {
      "cell_type": "code",
      "source": [
        "_,_,predictions = learn.get_X_preds(reshaped_img)\n",
        "np.save('/content/preds.npy',predictions)\n",
        "print(np.unique(predictions))\n",
        "print(predictions.shape)"
      ],
      "metadata": {
        "id": "YhKQWEU3kwy6"
      },
      "execution_count": null,
      "outputs": []
    },
    {
      "cell_type": "code",
      "source": [
        "# prob,_,_ = learn.get_X_preds(reshaped_img)\n",
        "# #np.save('/content/preds.npy',predictions)\n",
        "# print(np.unique(prob))\n",
        "# print(prob.shape)"
      ],
      "metadata": {
        "id": "E3_EZ6wmbjJx"
      },
      "execution_count": null,
      "outputs": []
    },
    {
      "cell_type": "code",
      "source": [
        "# prob_arr = np.asarray(prob)\n",
        "# print(prob_arr.shape)\n"
      ],
      "metadata": {
        "id": "RJgz51VHl41M"
      },
      "execution_count": null,
      "outputs": []
    },
    {
      "cell_type": "code",
      "source": [
        "# prob_arr = prob_arr.reshape(image.shape[1],image.shape[2],2)\n",
        "# prob_arr.shape"
      ],
      "metadata": {
        "id": "T8L2sV3Dm3WR"
      },
      "execution_count": null,
      "outputs": []
    },
    {
      "cell_type": "code",
      "source": [
        "# plt.imshow(prob_arr[:,:,1])\n",
        "# plt.colorbar()"
      ],
      "metadata": {
        "id": "q9XTFAiwnFHp"
      },
      "execution_count": null,
      "outputs": []
    },
    {
      "cell_type": "code",
      "source": [
        "# np.unique(image)"
      ],
      "metadata": {
        "id": "mFctniIinfAr"
      },
      "execution_count": null,
      "outputs": []
    },
    {
      "cell_type": "code",
      "source": [
        "# data = np.load('/content/preds.npy')"
      ],
      "metadata": {
        "id": "-m0IMH_dvSrP"
      },
      "execution_count": null,
      "outputs": []
    },
    {
      "cell_type": "code",
      "source": [
        "np.unique(predictions)\n",
        "predictions.shape"
      ],
      "metadata": {
        "id": "uWIto9Q6zj-s"
      },
      "execution_count": null,
      "outputs": []
    },
    {
      "cell_type": "code",
      "source": [
        "pred_arr = predictions.astype('int')\n",
        "print(np.unique(pred_arr))\n",
        "\n",
        "pred_arr=pred_arr.reshape(image.shape[1],image.shape[2])\n",
        "print(pred_arr.shape)\n"
      ],
      "metadata": {
        "id": "9vmWGaS90FN2"
      },
      "execution_count": null,
      "outputs": []
    },
    {
      "cell_type": "code",
      "source": [
        "\n",
        "fig,(ax1,ax2)=plt.subplots(1,2,figsize=(15,15))\n",
        "ax1.imshow(pred_arr==1)\n",
        "ax2.imshow(image[0],vmin=-1,vmax=1)"
      ],
      "metadata": {
        "id": "g1t0z9va2K7i"
      },
      "execution_count": null,
      "outputs": []
    },
    {
      "cell_type": "code",
      "source": [
        "# image.shape"
      ],
      "metadata": {
        "id": "39aBnLfn3ngQ"
      },
      "execution_count": null,
      "outputs": []
    },
    {
      "cell_type": "code",
      "source": [
        "# !pip install gdal"
      ],
      "metadata": {
        "id": "Xr3-phDN37nz"
      },
      "execution_count": null,
      "outputs": []
    },
    {
      "cell_type": "code",
      "source": [
        "# import shutil\n",
        "# from osgeo import gdal\n",
        "# import osr\n"
      ],
      "metadata": {
        "id": "aUf-OVQz4byv"
      },
      "execution_count": null,
      "outputs": []
    },
    {
      "cell_type": "code",
      "source": [
        "# tiff = gdal.Open('/content/drive/MyDrive/MyinGyan_corn/evi_data_cube.tif') #ref image directory\n",
        "# gt = tiff.GetGeoTransform()\n",
        "\n",
        "# outputImage='/content/out_put_image.tif'"
      ],
      "metadata": {
        "id": "IB3cCXoR4kX1"
      },
      "execution_count": null,
      "outputs": []
    },
    {
      "cell_type": "code",
      "source": [
        "# import rasterio\n",
        "# from rasterio.transform import from_origin\n",
        "# transform = from_origin(image.shape[1],image.shape[2], 10, 10)\n",
        "# new_dataset = rasterio.open('test1.tif', 'w', driver='GTiff',\n",
        "#                             height = image.shape[1], width = image.shape[2],\n",
        "#                             count=1, dtype='int8',\n",
        "#                             crs=crs,\n",
        "#                             transform=transform)\n",
        "# new_dataset.write(pred_arr, 1)\n",
        "# new_dataset.close()"
      ],
      "metadata": {
        "id": "5ERKwAA56iiZ"
      },
      "execution_count": null,
      "outputs": []
    },
    {
      "cell_type": "code",
      "source": [
        "# crs = src1.crs"
      ],
      "metadata": {
        "id": "7IjkBkwz6piE"
      },
      "execution_count": null,
      "outputs": []
    },
    {
      "cell_type": "code",
      "source": [
        "# src1.meta"
      ],
      "metadata": {
        "id": "OPmUMoYd7M30"
      },
      "execution_count": null,
      "outputs": []
    },
    {
      "cell_type": "code",
      "source": [
        "# pred_arr.dtype"
      ],
      "metadata": {
        "id": "FMhPAZhN7xjD"
      },
      "execution_count": null,
      "outputs": []
    },
    {
      "cell_type": "code",
      "source": [
        ""
      ],
      "metadata": {
        "id": "aq2LN4CQ8MrW"
      },
      "execution_count": null,
      "outputs": []
    }
  ]
}